{
 "cells": [
  {
   "cell_type": "markdown",
   "metadata": {},
   "source": [
    "Project Report\n",
    "========\n",
    "\n",
    "authors : Ajay Ramesh & Chandra Kumar"
   ]
  },
  {
   "cell_type": "markdown",
   "metadata": {},
   "source": [
    "<b style=\"color:red\">Productivity Tips </b>\n",
    "----------------------------------------\n",
    "shortcuts to Jupyter notebook\n",
    "https://www.dataquest.io/blog/jupyter-notebook-tips-tricks-shortcuts/\n",
    "\n",
    "also you can write html in side mark down mode example \n",
    "<pre>\n",
    "    <b style=\"color:blue\"> this is html code , click me to check how it is written </b>  \n",
    "</pre>\n",
    "\n",
    "<pre>\n",
    "     <b style=\"color:green\"> most usefule shorcuts </b>\n",
    "\n",
    "Esc will take you into command mode where you can navigate around your notebook with arrow keys.\n",
    "While in command mode:\n",
    "A to insert a new cell above the current cell, B to insert a new cell below.\n",
    "M to change the current cell to Markdown, Y to change it back to code\n",
    "D + D (press the key twice) to delete the current cell\n",
    "\n",
    "</pre>"
   ]
  },
  {
   "cell_type": "code",
   "execution_count": null,
   "metadata": {
    "collapsed": true
   },
   "outputs": [],
   "source": []
  },
  {
   "cell_type": "markdown",
   "metadata": {},
   "source": [
    "Mark down lang basics\n",
    "---------------------\n",
    "\n",
    "https://github.com/adam-p/markdown-here/wiki/Markdown-Cheatsheet#headers\n"
   ]
  },
  {
   "cell_type": "markdown",
   "metadata": {},
   "source": [
    "PAPER Structure \n",
    "=========\n",
    "- Introduction \n",
    "    - Motivation \n",
    "- List of Project Contributions\n",
    "- Research Description\n",
    "- Project Results\n",
    "- Conclusions\n",
    "- For the teams with more than one member: a detailed itemized list of contributions of each team member\n",
    "<pre>\n",
    "Technical content: 30%\n",
    "• Clearly stated background and motivation: 10%\n",
    "• Paper organization: 15%\n",
    "• Your own efforts (contribution, criticism, comparison, etc.): 35%\n",
    "• Satisfactory English: 10%\n",
    "</pre>"
   ]
  },
  {
   "cell_type": "markdown",
   "metadata": {},
   "source": [
    "### how to include images in mark down\n",
    "<pre>\n",
    "<b>usual way</b>\n",
    "![alt text][logo]\n",
    "\n",
    "[logo]: https://github.com/adam-p/markdown-here/raw/master/src/common/images/icon48.png \"Logo Title Text 2\"\n",
    "\n",
    "<b>another way </b>\n",
    "![this images is stored in local][localImage]\n",
    "[localImage]: images/test.jpg\n",
    "\n",
    "</pre>\n",
    "\n",
    "![alt text][logo]\n",
    "\n",
    "\n",
    "[logo]: https://github.com/adam-p/markdown-here/raw/master/src/common/images/icon48.png \"Logo Title Text 2\"\n",
    "\n",
    "![alt text][localImage]\n",
    "[localImage]: images/test.jpg"
   ]
  },
  {
   "cell_type": "markdown",
   "metadata": {},
   "source": [
    "### How to include the code\n",
    "```python\n",
    "s = \"Python syntax highlighting\"\n",
    "print s\n",
    "```\n",
    "\n",
    "<pre>\n",
    "\n",
    "```python\n",
    "s = \"Python syntax highlighting\"\n",
    "print s\n",
    "```\n",
    "</pre>"
   ]
  },
  {
   "cell_type": "markdown",
   "metadata": {},
   "source": [
    "List\n",
    "----\n",
    "<pre>\n",
    "1. First ordered list item\n",
    "2. Another item\n",
    "⋅⋅* Unordered sub-list. \n",
    "1. Actual numbers don't matter, just that it's a number\n",
    "⋅⋅1. Ordered sub-list\n",
    "4. And another item.\n",
    "\n",
    "⋅⋅⋅You can have properly indented paragraphs within list items. Notice the blank line above, and the leading spaces (at least one, but we'll use three here to also align the raw Markdown).\n",
    "\n",
    "⋅⋅⋅To have a line break without a paragraph, you will need to use two trailing spaces.⋅⋅\n",
    "⋅⋅⋅Note that this line is separate, but within the same paragraph.⋅⋅\n",
    "⋅⋅⋅(This is contrary to the typical GFM line break behaviour, where trailing spaces are not required.)\n",
    "\n",
    "* Unordered list can use asterisks\n",
    "- Or minuses\n",
    "+ Or pluses\n",
    "</pre>\n",
    "                                                                                                                     \n",
    "                                                                                                                     "
   ]
  },
  {
   "cell_type": "markdown",
   "metadata": {},
   "source": [
    "Actual Report Starts from here\n",
    "================="
   ]
  },
  {
   "cell_type": "markdown",
   "metadata": {},
   "source": [
    "\n",
    "High level diagram\n",
    "-----------------\n",
    "![High Level Diagram ][hll]\n",
    "[hll]: docs/image/hll.png\n",
    "\n"
   ]
  },
  {
   "cell_type": "markdown",
   "metadata": {
    "collapsed": true
   },
   "source": [
    "abstract\n",
    "A good Scheduling PLAN takes all available facts during decision making. An excellent Scheduling PLAN can be intelligent if it takes further inferences from available facts. In short, we are talking about Ai in Scheduling. We see AI is the new electricity for any application[1].  Scheduling is the key for an Application and Organization Sucess. A good Scheduling will make the application faster if and only if the schedule is fast. Organization benefits if scheduling maximizes the cluster utilization. In short, planning key constraints is to maximize cluster utilization use and minimize latency. Some Existing frame work uses the only tiny portion of Knowledge while schedling. In this paper we study many scheduler architectures, then we come up our scheduler named as pluggable scheduler framework CAKE, which uses Artificial Intelligence.  We presented our thoughts about why we need CAKE framework and its critics for it. In the end, we gave proof of concept using Genetic Algorithm for a simple problem. Our research notes section describes why Advance Concepts(AI,etc) in Scheduling must be unified by all researchers in Apache Open Source project, such that any application or organization will not worry about scheduling at all.\n",
    "\n",
    "\n",
    "\n",
    "[1] - Andrew Ng "
   ]
  },
  {
   "cell_type": "markdown",
   "metadata": {},
   "source": [
    "Structure of the report \n",
    "=============\n",
    "- Sections\n",
    "    - Section 1\n",
    "     - Borg\n",
    "          - Design Summary\n",
    "          - Facts\n",
    "          - Advantages/ Disadvantages \n",
    "      - Second Paper\n",
    "          - Design Summary\n",
    "          - Facts\n",
    "          - Advantages/ Disadvantages  \n",
    "      - 20th paper\n",
    "          - Design Summary\n",
    "          - Facts\n",
    "          - Advantages/ Disadvantages  \n",
    "   - Section 2\n",
    "     - CAKE Framework in detail\n",
    "         - Motivation\n",
    "         - Background \n",
    "         - Design\n",
    "     - Proof of Concepts\n",
    "          - Design\n",
    "          - Results\n",
    "          - Goal\n",
    "          - Critics\n",
    "      - 20th paper\n",
    "          - Design Summary\n",
    "          - Facts\n",
    "          - Advantages/ Disadvantages  \n",
    " "
   ]
  },
  {
   "cell_type": "markdown",
   "metadata": {
    "collapsed": true
   },
   "source": [
    "Quasar\n",
    "Quasar tackles this problem by employing some workload classification techniques based on the approach Netflix uses for its personalized movie recommendations.\n",
    "\n",
    "https://www.theregister.co.uk/2014/02/28/quasar_launch/\n"
   ]
  },
  {
   "cell_type": "markdown",
   "metadata": {},
   "source": [
    "When applying genetic algorithms, it can happen that the algorithm gets stuck at local optima. However, one is interested in the global optimum (or rather an approximation to such an optimum).\n",
    "\n",
    "Local optima can be avoided by:\n",
    "\n",
    "A higher mutation rate\n",
    "A different cross-over function\n",
    "Moreover, it may be useful to kill clones. That means you \"quickly\" look at your population after each iteration and do not allow for clones. By quickly I mean that you just look for approximate clones, because checking for exact clones would take O(m*n^2), where n is your population size and m is the size of a chromosome. This method helped me in a different problem where I was facing clones as well.\n",
    "\n",
    "Hope this helped, Christian"
   ]
  },
  {
   "cell_type": "markdown",
   "metadata": {},
   "source": [
    "Quasar is designed to schedule and assign resources to applications, and is meant to plug-into mammoth cluster management technologies, ranging from Google and Microsoft's proprietary Omega/Borg and Autopilot systems, to Twitter's Apache open source 'Mesos' project, to parts of the OpenStack management system."
   ]
  },
  {
   "cell_type": "markdown",
   "metadata": {},
   "source": [
    "\"The whole approach is inspired in some sense from work I did at Microsoft and later at Google analyzing resource usage,\" Stanford professor Christos Kozyrakis and co-author of the research tells El Reg."
   ]
  },
  {
   "cell_type": "markdown",
   "metadata": {},
   "source": [
    "Quasar \n",
    "====\n",
    "\n",
    "Quasar Uses machine learning technique to scheulde.  They descibe the model to learn is something similar how we develop model for movie recommendations. Once application performance constraints are specified, it is up to Quasar to find a resource allocation and assignment\n",
    "that satisfies them. Second, Quasar uses fast classification techniques to quickly and accurately estimate the impact different resource allocation and resource assignment decisions have on workload performance.The approach described in the paper takes few amount of data from the application then combine those into the large group of performance data, and then apply an algorithm to find out which resources needs to set aside to get the best performance. They used  classification algorithms to determine the impact of different resourse allocations and assaignments on workload.\n",
    "What this means is it takes a few samples of a new application, then stops the application, compares the samples against other previously run applications, and makes resource assignment assumptions based on this combined representation. It takes these samples across four vectors – scale-up, scale-out, interference, and heterogeneity, and passes the output to a Scheduler. We can think like say we  need 1000 numbers to describe the behavior of the program and only get one or two. The way we get the other 998 is using classification.\n",
    "Quasar can handle dynamic workloads, allowing it to assign new resourses as and when the applications grows or shrinks. The scheduler's primary objective is to allocate the least amount of resources needed to satisfy a workload's performance. That means Scheduler can't comprimise in performance. So it must satisfly the requested workload performance. Quasar improves resource utilization by 47% in the 200-server EC2 cluster, while meeting performance constraints for workloads of all types. \n",
    "\n",
    "- Take away\n",
    "    - Model like movie recommendation works for Scheduling also.\n",
    "    - Amazing results.\n",
    "    - Performance Constraint is difficult model.\n",
    "    - Stars ✮✮✮✮\n",
    "- Demerits\n",
    "    - Complex to genereate those model\n",
    "    - Usually defining the performance constraints is difficult\n",
    "    \n",
    "    \n",
    "- summary of Quasar Study\n",
    "    - Quasar, a cluster management system  that performs coordinated resource allocation and assignment. So if you want to tell what performance I need rather than telling I need these many resources, then we can go ahead with this approach. For example the job requires to completed in 1 hr, then scheduler allocates the resources as per that. Quasar currently supports distributed analytics frameworks, web-serving applications,  NoSQL datastores, and single-node batch workloads. "
   ]
  },
  {
   "cell_type": "code",
   "execution_count": null,
   "metadata": {
    "collapsed": true
   },
   "outputs": [],
   "source": []
  }
 ],
 "metadata": {
  "kernelspec": {
   "display_name": "Python 3",
   "language": "python",
   "name": "python3"
  },
  "language_info": {
   "codemirror_mode": {
    "name": "ipython",
    "version": 3
   },
   "file_extension": ".py",
   "mimetype": "text/x-python",
   "name": "python",
   "nbconvert_exporter": "python",
   "pygments_lexer": "ipython3",
   "version": "3.6.0"
  }
 },
 "nbformat": 4,
 "nbformat_minor": 2
}
