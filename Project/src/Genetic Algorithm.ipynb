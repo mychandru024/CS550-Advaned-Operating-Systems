{
 "cells": [
  {
   "cell_type": "markdown",
   "metadata": {
    "collapsed": false
   },
   "source": [
    "# CAKE - Genetic Algorithm POC \n",
    "\n",
    "Simple Test case we have tested for memeory constraints. \n",
    "<pre>\n",
    "machine = {\"m1\" : {\"ram\" : 4, \"HDD\" : 500, \"cores\" : 3 },\n",
    "     \"m2\" : {\"ram\" : 12, \"HDD\" : 1000, \"cores\" : 5 } \n",
    "    }\n",
    "jobs = {\"j1\" : {\"ram\" : 200, \"HDD\" : 100, \"cores\" : 3},\n",
    "     \"j2\" : {\"ram\" : 500, \"HDD\" : 50, \"cores\" : 5}, \n",
    "     \"j3\" : {\"ram\" : 100, \"HDD\" : 30, \"cores\" : 3}, \n",
    "     \"j4\" : {\"ram\" : 1024, \"HDD\" : 1, \"cores\" : 5}\n",
    "    }\n",
    "\n",
    "schedule_1 = {\"m1\" : [\"j1\", \"j3\"],\n",
    "            \"m2\" : [\"j2\", \"j4\"]\n",
    "           }\n",
    "schedule_2 = {\"m1\" : [\"j1\", \"j2\"],\n",
    "            \"m2\n",
    "</pre>"
   ]
  },
  {
   "cell_type": "code",
   "execution_count": null,
   "metadata": {
    "collapsed": true
   },
   "outputs": [],
   "source": []
  },
  {
   "cell_type": "code",
   "execution_count": 43,
   "metadata": {
    "collapsed": true
   },
   "outputs": [],
   "source": [
    "import random\n",
    "\n",
    "from deap import base\n",
    "from deap import creator\n",
    "from deap import tools\n",
    "import matplotlib.pyplot as plt\n",
    "%matplotlib inline"
   ]
  },
  {
   "cell_type": "code",
   "execution_count": 44,
   "metadata": {
    "collapsed": true
   },
   "outputs": [],
   "source": [
    "m = {\"m1\" : {\"ram\" : 4, \"HDD\" : 500, \"cores\" : 3 },\n",
    "     \"m2\" : {\"ram\" : 12, \"HDD\" : 1000, \"cores\" : 5 } \n",
    "    }\n",
    "j = {\"j1\" : {\"ram\" : 200, \"HDD\" : 100, \"cores\" : 3},\n",
    "     \"j2\" : {\"ram\" : 500, \"HDD\" : 50, \"cores\" : 5}, \n",
    "     \"j3\" : {\"ram\" : 100, \"HDD\" : 30, \"cores\" : 3}, \n",
    "     \"j4\" : {\"ram\" : 1024, \"HDD\" : 1, \"cores\" : 5}\n",
    "    }\n",
    "\n",
    "schedule_1 = {\"m1\" : [\"j1\", \"j3\"],\n",
    "            \"m2\" : [\"j2\", \"j4\"]\n",
    "           }\n",
    "schedule_2 = {\"m1\" : [\"j1\", \"j2\"],\n",
    "            \"m2\" : [\"j3\", \"j4\"]\n",
    "           }"
   ]
  },
  {
   "cell_type": "code",
   "execution_count": 45,
   "metadata": {
    "collapsed": true
   },
   "outputs": [],
   "source": [
    "def evaluate_schedule(schedule, m , j):\n",
    "    l = len(schedule)\n",
    "    fit = 0\n",
    "    for key, values in schedule.items():\n",
    "        max_core = 0\n",
    "        t_r = 0\n",
    "        t_h = 0\n",
    "        m_c = m[key]\n",
    "        for item in values:\n",
    "            j_c = j[item]\n",
    "            if j_c[\"cores\"] > max_core:\n",
    "                max_core = j_c[\"cores\"]\n",
    "            t_r += j_c[\"ram\"]\n",
    "            t_h += j_c[\"HDD\"]\n",
    "        if (max_core <= m_c[\"cores\"]) and (t_r <= m_c[\"ram\"] * 1024) and (t_h <= m_c[\"HDD\"]):\n",
    "            fit += 1\n",
    "    score = (fit/l)*100\n",
    "    #print(\"Score : %f\"%score)\n",
    "    \n",
    "    #check if this is a complete schedule\n",
    "    allJobs = list(j.keys())\n",
    "    allMachines = list(m.keys())\n",
    "    scheduled_jobs = list()\n",
    "    for machine in allMachines:\n",
    "        jobs_on_machine = schedule[machine]\n",
    "        for job in jobs_on_machine:\n",
    "            if job not in scheduled_jobs:\n",
    "                scheduled_jobs.append(job)\n",
    "    \"\"\"\n",
    "    for job in allJobs:\n",
    "        valid = False\n",
    "        for machine in allMachines:\n",
    "            if job in m[machine]:\n",
    "                valid = True\n",
    "                break;\n",
    "            else:\n",
    "                continue\n",
    "        if valid == False:\n",
    "            break\n",
    "    \"\"\"\n",
    "    valid = False\n",
    "    if len(allJobs) == len(scheduled_jobs):\n",
    "        valid = True\n",
    "    return (score, valid)\n",
    "    #return score"
   ]
  },
  {
   "cell_type": "code",
   "execution_count": 46,
   "metadata": {
    "collapsed": true
   },
   "outputs": [],
   "source": [
    "import math as ma\n",
    "def crossover_1(schedule_1,schedule_2):\n",
    "    \"\"\"\n",
    "    crosses over jobs on same machine in different schedule. example below :\n",
    "    old schedule_1 :  {'m1': ['j1', 'j2'], 'm2': ['j3', 'j4']}\n",
    "    old schedule_2 :  {'m1': ['j4', 'j3'], 'm2': ['j2', 'j1']}\n",
    "\n",
    "    new schedule_1 :  {'m1': ['j1', 'j3'], 'm2': ['j3', 'j1']}\n",
    "    new schedule_2 :  {'m1': ['j4', 'j2'], 'm2': ['j2', 'j4']}\n",
    "    \"\"\"\n",
    "    l = len(schedule_1)\n",
    "    n_s_1 = {}\n",
    "    n_s_2 = {}\n",
    "    for i in range(l):\n",
    "        ith_machine_jobs_1 = schedule_1[\"m\"+str(i+1)]\n",
    "        ith_machine_jobs_2 = schedule_2[\"m\"+str(i+1)]\n",
    "        slice_point = 0\n",
    "        if len(ith_machine_jobs_1) > len(ith_machine_jobs_2):\n",
    "            slice_point = ma.ceil(len(ith_machine_jobs_1)/2)\n",
    "        else:\n",
    "            slice_point = ma.ceil(len(ith_machine_jobs_2)/2)\n",
    "            \n",
    "        new_1 = [item for item in ith_machine_jobs_1[:slice_point]]\n",
    "        for item in ith_machine_jobs_2[slice_point:]:\n",
    "            new_1.append(item)\n",
    "        n_s_1.update({\"m\"+str(i+1) : new_1 })\n",
    "        \n",
    "        new_2 = [item for item in ith_machine_jobs_2[:slice_point]]\n",
    "        for item in ith_machine_jobs_1[slice_point:]:\n",
    "            new_2.append(item)\n",
    "        \n",
    "        n_s_2.update({\"m\"+str(i+1) : new_2 })\n",
    "    \"\"\"\n",
    "    print(\"old schedule_1 : \",schedule_1)\n",
    "    print(\"old schedule_2 : \",schedule_2)\n",
    "    print()\n",
    "    print(\"new schedule_1 : \",n_s_1)\n",
    "    print(\"new schedule_2 : \",n_s_2)\n",
    "    \"\"\"\n",
    "    return n_s_1, n_s_2"
   ]
  },
  {
   "cell_type": "code",
   "execution_count": 47,
   "metadata": {
    "collapsed": true
   },
   "outputs": [],
   "source": [
    "def crossover_2(s_1, s_2):\n",
    "    \"\"\"\n",
    "    crosses over jobs of the machine in the second part of this schedule with the second part of other schedule.\n",
    "    example below :\n",
    "    old schedule_1 :  {'m1': ['j1', 'j2'], 'm2': ['j3', 'j4']}\n",
    "    old schedule_2 :  {'m1': ['j4', 'j3'], 'm2': ['j2', 'j1']}\n",
    "\n",
    "    new schedule_1 :  {'m1': ['j1', 'j2'], 'm2': ['j2', 'j1']} \n",
    "    new schedule_2 :  {'m1': ['j4', 'j3'], 'm2': ['j3', 'j4']}\n",
    "    \"\"\"\n",
    "    l = len(s_1)\n",
    "    n_s_1 = {}\n",
    "    n_s_2 = {}\n",
    "    slice_point = ma.ceil(len(s_1)/2)\n",
    "    for i in range(l):\n",
    "        if i < slice_point:\n",
    "            n_s_1.update({\"m\"+str(i+1) : s_1[\"m\"+str(i+1)]})\n",
    "            n_s_2.update({\"m\"+str(i+1) : s_2[\"m\"+str(i+1)]})\n",
    "        else:\n",
    "            n_s_1.update({\"m\"+str(i+1) : s_2[\"m\"+str(i+1)]})\n",
    "            n_s_2.update({\"m\"+str(i+1) : s_1[\"m\"+str(i+1)]})\n",
    "    \"\"\"\n",
    "    print(\"old schedule_1 : \",s_1)\n",
    "    print(\"old schedule_2 : \",s_2)\n",
    "    print()\n",
    "    print(\"new schedule_1 : \",n_s_1)\n",
    "    print(\"new schedule_2 : \",n_s_2)\n",
    "    \"\"\"\n",
    "    return n_s_1, n_s_2"
   ]
  },
  {
   "cell_type": "code",
   "execution_count": 48,
   "metadata": {
    "collapsed": true
   },
   "outputs": [],
   "source": [
    "import random\n",
    "def crossover(s_1, s_2):\n",
    "    choice = random.randint(0,1)\n",
    "    #print(choice)\n",
    "    if choice == 0:\n",
    "        return crossover_1(s_1, s_2)\n",
    "    else:\n",
    "        return crossover_2(s_1, s_2)"
   ]
  },
  {
   "cell_type": "code",
   "execution_count": 49,
   "metadata": {
    "collapsed": false
   },
   "outputs": [],
   "source": [
    "#generate the initial population\n",
    "def generateInitalPopulation_randomly(machine_details, job_details, numberOfSchedules):\n",
    "    randomSchedules = list()\n",
    "    available_machines = list(machine_details.keys())\n",
    "    submitted_jobs = list(job_details.keys())\n",
    "    \n",
    "    jobs_per_machine = ma.ceil(len(submitted_jobs) / len(available_machines))\n",
    "    \n",
    "    #print(submitted_jobs)\n",
    "    #print(available_machines)\n",
    "    \n",
    "    for i in range(numberOfSchedules):\n",
    "        submitted_jobs = list(job_details.keys())\n",
    "        schedule = {}\n",
    "        for machine in available_machines:\n",
    "            schedule.update({ machine : list()})\n",
    "            for j in range(jobs_per_machine):\n",
    "                if(len(submitted_jobs) <= 0):\n",
    "                    break\n",
    "                index = random.randint(0,len(submitted_jobs)-1)\n",
    "                job = submitted_jobs.pop(index)#removing scheduled item\n",
    "                schedule[machine].append(job)\n",
    "        randomSchedules.append(schedule)\n",
    "    return randomSchedules"
   ]
  },
  {
   "cell_type": "code",
   "execution_count": 50,
   "metadata": {
    "collapsed": true
   },
   "outputs": [],
   "source": [
    "#generates next population using crossover\n",
    "def generateNextPopulationUsingCrossOver(df, m, j, n):\n",
    "    schedule = df['schedule']\n",
    "    fitness_score = df['fitness score']\n",
    "    new_Schedules = list()\n",
    "    while(len(new_Schedules) < n):\n",
    "        i1 = random.randint(0,n-1)\n",
    "        i2 = random.randint(0,n-1)\n",
    "        crossed_over_schedules = crossover(schedule[i1], schedule[i2])\n",
    "        for item in crossed_over_schedules:\n",
    "            if not len(new_Schedules) >= n:\n",
    "                new_Schedules.append(item)\n",
    "    return new_Schedules"
   ]
  },
  {
   "cell_type": "code",
   "execution_count": 51,
   "metadata": {
    "collapsed": false
   },
   "outputs": [],
   "source": [
    "#print(random.random())\n",
    "def mutate(schedules, j, prob):\n",
    "    #print(schedules)\n",
    "    allJobs = list(j.keys())\n",
    "    for i in range(len(schedules)):\n",
    "        #print(i)\n",
    "        for key in schedules[i].keys():#length of each schedule i.e, number of machines\n",
    "            #print(schedules[i])\n",
    "            for k in range(len(schedules[i][key])):#number of jobs on each machine\n",
    "                #print(\"K : \",k)\n",
    "                if random.random() < prob:\n",
    "                    possible_values = list(allJobs)\n",
    "                    possible_values.remove(schedules[i][key][k])\n",
    "                    index = random.randint(0,len(possible_values) - 1)\n",
    "                    schedules[i][key][k] = possible_values[index]\n",
    "    return schedules\n",
    "#mutate([schedule_1,schedule_2], j, 0.5)"
   ]
  },
  {
   "cell_type": "code",
   "execution_count": 116,
   "metadata": {
    "collapsed": false
   },
   "outputs": [
    {
     "name": "stdout",
     "output_type": "stream",
     "text": [
      "Solution found :  {'m1': ['j3', 'j1'], 'm2': ['j4', 'j2']}\n"
     ]
    }
   ],
   "source": [
    "import pandas as pd\n",
    "import sys\n",
    "def demoGA():\n",
    "    #random.seed(64)\n",
    "    CXPB, MUTPB, NGEN, POP_SIZE = 0.5, 0.2, 350, 10\n",
    "    initialRandomSchedules = generateInitalPopulation_randomly(m, j, POP_SIZE)\n",
    "    #print(initialRandomSchedules)\n",
    "    fitnesses = list()\n",
    "    for schedule in initialRandomSchedules:\n",
    "        fit_score = evaluate_schedule(schedule, m , j)\n",
    "        #fitnesses.append(fit_score)\n",
    "        if fit_score[0] == 100 and (fit_score[1] == True):\n",
    "                print(\"Solution found : \", schedule)\n",
    "                return\n",
    "        else:\n",
    "            fitnesses.append(fit_score)\n",
    " \n",
    "    #print(fitnesses)\n",
    "    #for schedule, fitness in zip(intialRandomScehules, fitnesses):\n",
    "    print(\"Initial Schedules : \")\n",
    "    df = pd.DataFrame(data={'schedule' : initialRandomSchedules, 'fitness score' : fitnesses})\n",
    "    df = df[['schedule', 'fitness score']]\n",
    "    df = df.sort_values(axis=0,by='fitness score',ascending=False)\n",
    "    #print(df)\n",
    "    \n",
    "    for i in range(NGEN):\n",
    "        #print(\"\\nGeneration : \",i)\n",
    "        new_Schedule = generateNextPopulationUsingCrossOver(df, m, j, POP_SIZE)\n",
    "        new_Schedule = mutate(new_Schedule, j, MUTPB)\n",
    "        fitnesses = list()\n",
    "        for schedule in new_Schedule:\n",
    "            fit_score = evaluate_schedule(schedule, m , j)\n",
    "            #print(fit_score)\n",
    "            if fit_score[0] == 100 and (fit_score[1] == True):\n",
    "                print(\"Solution found : \", schedule,\" in Generation : \",i)\n",
    "                return\n",
    "            else:\n",
    "                fitnesses.append(fit_score)\n",
    "        \n",
    "        df = pd.DataFrame(data={'schedule' : new_Schedule, 'fitness score' : fitnesses})\n",
    "        df = df[['schedule', 'fitness score']]\n",
    "        df = df.sort_values(axis=0,by='fitness score',ascending=False)  \n",
    "        #print(df)\n",
    "    \n",
    "if __name__ == \"__main__\":\n",
    "    demoGA()"
   ]
  },
  {
   "cell_type": "markdown",
   "metadata": {},
   "source": []
  }
 ],
 "metadata": {
  "anaconda-cloud": {},
  "kernelspec": {
   "display_name": "Python [default]",
   "language": "python",
   "name": "python3"
  },
  "language_info": {
   "codemirror_mode": {
    "name": "ipython",
    "version": 3
   },
   "file_extension": ".py",
   "mimetype": "text/x-python",
   "name": "python",
   "nbconvert_exporter": "python",
   "pygments_lexer": "ipython3",
   "version": "3.5.2"
  }
 },
 "nbformat": 4,
 "nbformat_minor": 0
}
